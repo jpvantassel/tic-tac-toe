{
 "cells": [
  {
   "cell_type": "markdown",
   "metadata": {},
   "source": [
    "# Visualize Board Transformations\n",
    "\n",
    "> Joseph P. Vantassel, The University of Texas at Austin\n",
    "\n",
    "To cut down on the computational expense of training the tic-tac-toe model, we can utlize the inherent symetry present in the\n",
    "game board.\n",
    "\n",
    "Below is a single game state shown in eight possible unique ways. These eight possible combinations correspond to the eight\n",
    "values the `trans_number` variable can assume."
   ]
  },
  {
   "cell_type": "code",
   "execution_count": 2,
   "metadata": {},
   "outputs": [],
   "source": [
    "import numpy as np"
   ]
  },
  {
   "cell_type": "markdown",
   "metadata": {},
   "source": [
    "## Possibility #0\n",
    "\n",
    "Base state (i.e., no manipulation)."
   ]
  },
  {
   "cell_type": "code",
   "execution_count": 3,
   "metadata": {},
   "outputs": [
    {
     "name": "stdout",
     "output_type": "stream",
     "text": [
      "[[1 2 0]\n",
      " [2 0 1]\n",
      " [2 2 2]]\n"
     ]
    }
   ],
   "source": [
    "state = np.array([[1,2,0],[2,0,1],[2,2,2]])\n",
    "print(state)"
   ]
  },
  {
   "cell_type": "markdown",
   "metadata": {},
   "source": [
    "## Possibility #1\n",
    "\n",
    "Rotate 90 degrees clock-wise."
   ]
  },
  {
   "cell_type": "code",
   "execution_count": 16,
   "metadata": {},
   "outputs": [
    {
     "name": "stdout",
     "output_type": "stream",
     "text": [
      "[[2 2 1]\n",
      " [2 0 2]\n",
      " [2 1 0]]\n"
     ]
    }
   ],
   "source": [
    "print(np.flip(np.transpose(state), 1))"
   ]
  },
  {
   "cell_type": "markdown",
   "metadata": {},
   "source": [
    "## Possibility #2\n",
    "\n",
    "Flip across diagnol spanning from lower-left to upper-right."
   ]
  },
  {
   "cell_type": "code",
   "execution_count": 17,
   "metadata": {},
   "outputs": [
    {
     "name": "stdout",
     "output_type": "stream",
     "text": [
      "[[2 1 0]\n",
      " [2 0 2]\n",
      " [2 2 1]]\n"
     ]
    }
   ],
   "source": [
    "print(np.flip(np.flip(np.transpose(state), 1), 0))"
   ]
  },
  {
   "cell_type": "markdown",
   "metadata": {},
   "source": [
    "## Possibility #3\n",
    "\n",
    "Flip across diagnol spanning from upper-left to lower-right."
   ]
  },
  {
   "cell_type": "code",
   "execution_count": 18,
   "metadata": {},
   "outputs": [
    {
     "name": "stdout",
     "output_type": "stream",
     "text": [
      "[[1 2 2]\n",
      " [2 0 2]\n",
      " [0 1 2]]\n"
     ]
    }
   ],
   "source": [
    "print(np.transpose(state))"
   ]
  },
  {
   "cell_type": "markdown",
   "metadata": {},
   "source": [
    "## Possibility #4\n",
    "\n",
    "Rotate 180 degrees clock-wise."
   ]
  },
  {
   "cell_type": "code",
   "execution_count": 19,
   "metadata": {},
   "outputs": [
    {
     "name": "stdout",
     "output_type": "stream",
     "text": [
      "[[2 2 2]\n",
      " [1 0 2]\n",
      " [0 2 1]]\n"
     ]
    }
   ],
   "source": [
    "print(np.flip(np.flip(state, 0), 1))"
   ]
  },
  {
   "cell_type": "markdown",
   "metadata": {},
   "source": [
    "## Possibility #5\n",
    "\n",
    "Flip board across central vertical line."
   ]
  },
  {
   "cell_type": "code",
   "execution_count": 20,
   "metadata": {},
   "outputs": [
    {
     "name": "stdout",
     "output_type": "stream",
     "text": [
      "[[0 2 1]\n",
      " [1 0 2]\n",
      " [2 2 2]]\n"
     ]
    }
   ],
   "source": [
    "print(np.flip(state, 1))"
   ]
  },
  {
   "cell_type": "markdown",
   "metadata": {},
   "source": [
    "## Possibility #6\n",
    "\n",
    "Flip board across central horizontal line."
   ]
  },
  {
   "cell_type": "code",
   "execution_count": 13,
   "metadata": {},
   "outputs": [
    {
     "name": "stdout",
     "output_type": "stream",
     "text": [
      "[[2 2 2]\n",
      " [2 0 1]\n",
      " [1 2 0]]\n"
     ]
    }
   ],
   "source": [
    "print(np.flip(state, 0))"
   ]
  },
  {
   "cell_type": "markdown",
   "metadata": {},
   "source": [
    "## Possibility #7\n",
    "\n",
    "Rotate 270 degrees clock-wise."
   ]
  },
  {
   "cell_type": "code",
   "execution_count": 21,
   "metadata": {},
   "outputs": [
    {
     "name": "stdout",
     "output_type": "stream",
     "text": [
      "[[0 1 2]\n",
      " [2 0 2]\n",
      " [1 2 2]]\n"
     ]
    }
   ],
   "source": [
    "print(np.flip(np.transpose(state), 0))"
   ]
  },
  {
   "cell_type": "code",
   "execution_count": null,
   "metadata": {},
   "outputs": [],
   "source": []
  },
  {
   "cell_type": "markdown",
   "metadata": {},
   "source": [
    "## Superfluous Manipulations\n",
    "\n",
    "Same as Possibliity #0"
   ]
  },
  {
   "cell_type": "code",
   "execution_count": 22,
   "metadata": {},
   "outputs": [
    {
     "name": "stdout",
     "output_type": "stream",
     "text": [
      "[[1 2 0]\n",
      " [2 0 1]\n",
      " [2 2 2]]\n"
     ]
    }
   ],
   "source": [
    "print(np.transpose(np.flip(np.flip(np.transpose(state), 0), 0)))"
   ]
  },
  {
   "cell_type": "code",
   "execution_count": null,
   "metadata": {},
   "outputs": [],
   "source": []
  }
 ],
 "metadata": {
  "kernelspec": {
   "display_name": "Python 3",
   "language": "python",
   "name": "python3"
  },
  "language_info": {
   "codemirror_mode": {
    "name": "ipython",
    "version": 3
   },
   "file_extension": ".py",
   "mimetype": "text/x-python",
   "name": "python",
   "nbconvert_exporter": "python",
   "pygments_lexer": "ipython3",
   "version": "3.7.2"
  }
 },
 "nbformat": 4,
 "nbformat_minor": 2
}
